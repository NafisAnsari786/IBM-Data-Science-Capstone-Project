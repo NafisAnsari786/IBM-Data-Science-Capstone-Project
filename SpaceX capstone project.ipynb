{
 "cells": [
  {
   "cell_type": "markdown",
   "id": "354a9219-fef1-489a-846d-101d124ee68f",
   "metadata": {},
   "source": [
    "# Part 1 spacex data collection "
   ]
  },
  {
   "cell_type": "markdown",
   "id": "0d6ad08a-ac6b-42ad-a78f-5516204274a5",
   "metadata": {},
   "source": [
    "1. Get request for rocket launch data using API"
   ]
  },
  {
   "cell_type": "code",
   "execution_count": null,
   "id": "485ce598-7f55-412f-928c-46867d73aa03",
   "metadata": {},
   "outputs": [],
   "source": [
    "spacex_url=\"https://api.spacexdata.com/v4/launches/past\""
   ]
  },
  {
   "cell_type": "code",
   "execution_count": null,
   "id": "2cbde94e-f373-4826-8ddf-50063b5193bb",
   "metadata": {},
   "outputs": [],
   "source": [
    "response = requests.get(spacex_url)"
   ]
  },
  {
   "cell_type": "markdown",
   "id": "84feb151-181c-478a-bbc2-8729eaf1f14b",
   "metadata": {},
   "source": [
    "2. Use json_normalize method to convert json result to dataframe"
   ]
  },
  {
   "cell_type": "code",
   "execution_count": null,
   "id": "33a1dcb0-cf84-45bf-9cb9-d2bf4c76167c",
   "metadata": {},
   "outputs": [],
   "source": [
    "# Use json_normalize meethod to convert the json result into a dataframe\n",
    "# Get the head of the dataframe\n",
    "data=pd.json_normalize(response.json())\n",
    "data"
   ]
  },
  {
   "cell_type": "markdown",
   "id": "9c14e578-c419-4b43-af50-89856458076a",
   "metadata": {},
   "source": [
    "3. We then performed data cleaning and filling in the missing values"
   ]
  },
  {
   "cell_type": "code",
   "execution_count": null,
   "id": "c88dc693-71a7-412e-a8c7-c4e4a3854a56",
   "metadata": {},
   "outputs": [],
   "source": [
    "# Calculate the mean value of PayloadMass column for Falcon 9 launches\n",
    "mean_payload_mass = data_falcon9['PayloadMass'].mean()\n",
    "\n",
    "# Replace NaN values with the mean value in the 'PayloadMass' column\n",
    "data_falcon9['PayloadMass'].fillna(mean_payload_mass, inplace=True)"
   ]
  },
  {
   "cell_type": "code",
   "execution_count": null,
   "id": "81593608-4351-4a8f-87a4-79c4e652895e",
   "metadata": {},
   "outputs": [],
   "source": []
  },
  {
   "cell_type": "markdown",
   "id": "0e5cc9a1-6f7b-40d6-a564-3bf492dcee4f",
   "metadata": {},
   "source": [
    "# Part 2 spacex data collection "
   ]
  },
  {
   "cell_type": "markdown",
   "id": "111c2588-c66a-4188-8d69-c94ee5442920",
   "metadata": {},
   "source": [
    "1. Apply HTTP Get method to request the Falcon 9 rocket launch page"
   ]
  },
  {
   "cell_type": "code",
   "execution_count": null,
   "id": "513bb8a6-84c2-43bf-85c3-608319cf03dd",
   "metadata": {},
   "outputs": [],
   "source": [
    "static_url = \"https://en.wikipedia.org/w/index.php?title=List_of_Falcon_9_and_Falcon_Heavy_launches&oldid=1027686922\""
   ]
  },
  {
   "cell_type": "code",
   "execution_count": null,
   "id": "37a77e7f-2db5-41d9-8a3f-b17d45dab843",
   "metadata": {},
   "outputs": [],
   "source": [
    "# use requests.get() method with the provided static_url\n",
    "# assign the response to a object\n",
    "\n",
    "response=requests.get(static_url)\n",
    "\n",
    "if response.status_code==200:\n",
    "    # print(response.text)\n",
    "else:\n",
    "    print(f\"Error: Unable to retrieve the page. Status code:{response.status_code}\")"
   ]
  },
  {
   "cell_type": "markdown",
   "id": "eee604f6-ebdb-4509-a12b-27c4243a4897",
   "metadata": {},
   "source": [
    "2. Create a BeautifulSoup object from the HTML response"
   ]
  },
  {
   "cell_type": "code",
   "execution_count": null,
   "id": "73f5b33d-a8c8-486b-a295-ac1f70efcff5",
   "metadata": {},
   "outputs": [],
   "source": [
    "# Use BeautifulSoup() to create a BeautifulSoup object from a response text content\n",
    "soup=BeautifulSoup(response.text, 'html.parser')\n",
    "\n",
    "print(\"Title of the page:\",soup.title.text)"
   ]
  },
  {
   "cell_type": "markdown",
   "id": "7040fb78-1406-4dc1-926e-9b6a016daa9e",
   "metadata": {},
   "source": [
    "Title of the page: List of Falcon 9 and Falcon Heavy launches - Wikipedia"
   ]
  },
  {
   "cell_type": "markdown",
   "id": "83a1a8be-15d3-467c-b932-ef95f1a73936",
   "metadata": {},
   "source": [
    "3. Extract all column names from the HTML table header"
   ]
  },
  {
   "cell_type": "code",
   "execution_count": null,
   "id": "392b7f24-af3d-4ce8-9ed5-67cbfee34100",
   "metadata": {},
   "outputs": [],
   "source": [
    "# Use the find_all function in the BeautifulSoup object, with element type `table`\n",
    "# Assign the result to a list called `html_tables`\n",
    "tables=soup.find_all('table')\n",
    "\n",
    "# iterate through each table\n",
    "for table in tables:\n",
    "    # Find the table header (assuming it is the first row in the table)\n",
    "    headers=table.find('tr').find_all('th')\n",
    "    \n",
    "    # Extract and print the column names\n",
    "    for header in headers:\n",
    "        column_names=header.text.strip()\n",
    "        print(\"Column Names:\", column_names)"
   ]
  },
  {
   "cell_type": "markdown",
   "id": "fdfd1dc9-e189-400b-99cf-ca4d6d39a4f4",
   "metadata": {},
   "source": [
    "4. Create a dataframe by parsing the launch HTML tables"
   ]
  },
  {
   "cell_type": "markdown",
   "id": "b690ecbd-4652-4e54-b702-f19910d54ef3",
   "metadata": {},
   "source": [
    "5. Export data to csv"
   ]
  },
  {
   "cell_type": "code",
   "execution_count": null,
   "id": "5b5ef3c4-b548-4d93-8fb4-15c59803134f",
   "metadata": {},
   "outputs": [],
   "source": []
  }
 ],
 "metadata": {
  "kernelspec": {
   "display_name": "Python 3 (ipykernel)",
   "language": "python",
   "name": "python3"
  },
  "language_info": {
   "codemirror_mode": {
    "name": "ipython",
    "version": 3
   },
   "file_extension": ".py",
   "mimetype": "text/x-python",
   "name": "python",
   "nbconvert_exporter": "python",
   "pygments_lexer": "ipython3",
   "version": "3.11.2"
  }
 },
 "nbformat": 4,
 "nbformat_minor": 5
}
